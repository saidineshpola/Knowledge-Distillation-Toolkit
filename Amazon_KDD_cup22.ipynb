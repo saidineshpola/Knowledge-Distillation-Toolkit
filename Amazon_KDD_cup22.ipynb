{
  "cells": [
    {
      "cell_type": "markdown",
      "metadata": {
        "id": "view-in-github",
        "colab_type": "text"
      },
      "source": [
        "<a href=\"https://colab.research.google.com/github/saidineshpola/Knowledge-Distillation-Toolkit/blob/main/Amazon_KDD_cup22.ipynb\" target=\"_parent\"><img src=\"https://colab.research.google.com/assets/colab-badge.svg\" alt=\"Open In Colab\"/></a>"
      ]
    },
    {
      "cell_type": "code",
      "execution_count": 1,
      "metadata": {
        "colab": {
          "base_uri": "https://localhost:8080/"
        },
        "id": "0IZjqhtGYpQr",
        "outputId": "255ca917-21b1-4e2d-b255-f76a0370b38e"
      },
      "outputs": [
        {
          "output_type": "stream",
          "name": "stdout",
          "text": [
            "Wed May 11 11:24:30 2022       \n",
            "+-----------------------------------------------------------------------------+\n",
            "| NVIDIA-SMI 460.32.03    Driver Version: 460.32.03    CUDA Version: 11.2     |\n",
            "|-------------------------------+----------------------+----------------------+\n",
            "| GPU  Name        Persistence-M| Bus-Id        Disp.A | Volatile Uncorr. ECC |\n",
            "| Fan  Temp  Perf  Pwr:Usage/Cap|         Memory-Usage | GPU-Util  Compute M. |\n",
            "|                               |                      |               MIG M. |\n",
            "|===============================+======================+======================|\n",
            "|   0  Tesla T4            Off  | 00000000:00:04.0 Off |                    0 |\n",
            "| N/A   45C    P8     9W /  70W |      0MiB / 15109MiB |      0%      Default |\n",
            "|                               |                      |                  N/A |\n",
            "+-------------------------------+----------------------+----------------------+\n",
            "                                                                               \n",
            "+-----------------------------------------------------------------------------+\n",
            "| Processes:                                                                  |\n",
            "|  GPU   GI   CI        PID   Type   Process name                  GPU Memory |\n",
            "|        ID   ID                                                   Usage      |\n",
            "|=============================================================================|\n",
            "|  No running processes found                                                 |\n",
            "+-----------------------------------------------------------------------------+\n"
          ]
        }
      ],
      "source": [
        "!nvidia-smi"
      ]
    },
    {
      "cell_type": "markdown",
      "metadata": {
        "id": "Aw3wJhnLY5Eg"
      },
      "source": [
        "## Logging Aicrowd"
      ]
    },
    {
      "cell_type": "code",
      "execution_count": 2,
      "metadata": {
        "colab": {
          "base_uri": "https://localhost:8080/"
        },
        "id": "H2fPJ9MkY3Un",
        "outputId": "249382c9-cc17-4325-ce8d-a169294bc964"
      },
      "outputs": [
        {
          "output_type": "stream",
          "name": "stdout",
          "text": [
            "\u001b[31mERROR: pip's dependency resolver does not currently take into account all the packages that are installed. This behaviour is the source of the following dependency conflicts.\n",
            "google-colab 1.0.0 requires requests~=2.23.0, but you have requests 2.27.1 which is incompatible.\n",
            "datascience 0.10.6 requires folium==0.2.1, but you have folium 0.8.3 which is incompatible.\u001b[0m\n",
            "\u001b[32mAPI Key valid\u001b[0m\n",
            "\u001b[33mGitlab oauth token invalid or absent.\n",
            "It is highly recommended to simply run `aicrowd login` without passing the API Key.\u001b[0m\n",
            "\u001b[32mSaved details successfully!\u001b[0m\n",
            "Mounted at /content/drive\n"
          ]
        }
      ],
      "source": [
        "# Login to AIcrowd\n",
        "!pip install aicrowd-cli > /dev/null\n",
        "#!aicrowd login\n",
        "\n",
        "########## or ################\n",
        "# Get your API key from https://www.aicrowd.com/participants/me\n",
        "API_KEY = \"61a473a8ff6ff34c77e7f9f8544ef7dd\"\n",
        "!aicrowd login --api-key $API_KEY\n",
        "#alternatively copy files from drive\n",
        "\n",
        "from google.colab import drive\n",
        "drive.mount('/content/drive')\n"
      ]
    },
    {
      "cell_type": "code",
      "execution_count": null,
      "metadata": {
        "id": "W6eHOl5tpwcf"
      },
      "outputs": [],
      "source": [
        "# List dataset for this challenge\n",
        "!aicrowd dataset list -c esci-challenge-for-improving-product-search\n",
        "\n",
        "# Download dataset\n",
        "!aicrowd dataset download -c esci-challenge-for-improving-product-search 0 1 2 3"
      ]
    },
    {
      "cell_type": "code",
      "execution_count": null,
      "metadata": {
        "colab": {
          "base_uri": "https://localhost:8080/"
        },
        "id": "Ks1qWw_0Z40G",
        "outputId": "d718f42c-3942-4228-ed7e-fd749ae70847"
      },
      "outputs": [
        {
          "name": "stdout",
          "output_type": "stream",
          "text": [
            "Archive:  test_public-v0.2.csv.zip\n",
            "  inflating: data/processed/public/task_1_query-product_ranking/test_public-v0.2.csv  \n",
            "\n",
            "Archive:  train-v0.2.csv.zip\n",
            "  inflating: data/processed/public/task_1_query-product_ranking/train-v0.2.csv  \n",
            "\n",
            "Archive:  product_catalogue-v0.2.csv.zip\n",
            "  inflating: data/processed/public/task_1_query-product_ranking/product_catalogue-v0.2.csv  \n",
            "\n",
            "3 archives were successfully processed.\n"
          ]
        }
      ],
      "source": [
        "!unzip \"*.zip\"\n",
        "%cp -r /content/data/processed/public/task_1_query-product_ranking/ .\n",
        "!rm -r *.zip"
      ]
    },
    {
      "cell_type": "code",
      "execution_count": null,
      "metadata": {
        "colab": {
          "base_uri": "https://localhost:8080/"
        },
        "id": "rzFEvmzUcOSu",
        "outputId": "c7c62407-1677-4f30-8711-f02eac6f2e2c"
      },
      "outputs": [
        {
          "name": "stdout",
          "output_type": "stream",
          "text": [
            "/content/task_1_query-product_ranking\n"
          ]
        }
      ],
      "source": [
        "%cd /content/task_1_query-product_ranking/\n",
        "import numpy as np\n",
        "import pandas as pd\n",
        "product_df = pd.read_csv('product_catalogue-v0.2.csv')\n",
        "test_df = pd.read_csv('test_public-v0.2.csv')\n",
        "train_df = pd.read_csv('train-v0.2.csv')\n",
        "# train_df = train_df.merge(product_df,left_on = ['product_id','query_locale'],right_on=['product_id','product_locale'], how= 'left')\n",
        "# test_df = test_df.merge(product_df,left_on = ['product_id','query_locale'],right_on=['product_id','product_locale'], how= 'left')"
      ]
    },
    {
      "cell_type": "code",
      "execution_count": null,
      "metadata": {
        "colab": {
          "base_uri": "https://localhost:8080/",
          "height": 206
        },
        "id": "U_fkILf1dLVk",
        "outputId": "e85fa75d-622b-42c1-93b0-20cd2a77d061"
      },
      "outputs": [
        {
          "data": {
            "text/html": [
              "\n",
              "  <div id=\"df-970a6449-9d08-45ce-bd79-904fd4b9e3ff\">\n",
              "    <div class=\"colab-df-container\">\n",
              "      <div>\n",
              "<style scoped>\n",
              "    .dataframe tbody tr th:only-of-type {\n",
              "        vertical-align: middle;\n",
              "    }\n",
              "\n",
              "    .dataframe tbody tr th {\n",
              "        vertical-align: top;\n",
              "    }\n",
              "\n",
              "    .dataframe thead th {\n",
              "        text-align: right;\n",
              "    }\n",
              "</style>\n",
              "<table border=\"1\" class=\"dataframe\">\n",
              "  <thead>\n",
              "    <tr style=\"text-align: right;\">\n",
              "      <th></th>\n",
              "      <th>query_id</th>\n",
              "      <th>query</th>\n",
              "      <th>query_locale</th>\n",
              "      <th>product_id</th>\n",
              "      <th>esci_label</th>\n",
              "    </tr>\n",
              "  </thead>\n",
              "  <tbody>\n",
              "    <tr>\n",
              "      <th>0</th>\n",
              "      <td>0</td>\n",
              "      <td>!awnmower tires without rims</td>\n",
              "      <td>us</td>\n",
              "      <td>B00004RA3F</td>\n",
              "      <td>irrelevant</td>\n",
              "    </tr>\n",
              "    <tr>\n",
              "      <th>1</th>\n",
              "      <td>0</td>\n",
              "      <td>!awnmower tires without rims</td>\n",
              "      <td>us</td>\n",
              "      <td>B0018TWDOI</td>\n",
              "      <td>exact</td>\n",
              "    </tr>\n",
              "    <tr>\n",
              "      <th>2</th>\n",
              "      <td>0</td>\n",
              "      <td>!awnmower tires without rims</td>\n",
              "      <td>us</td>\n",
              "      <td>B005O5Y3QI</td>\n",
              "      <td>exact</td>\n",
              "    </tr>\n",
              "    <tr>\n",
              "      <th>3</th>\n",
              "      <td>0</td>\n",
              "      <td>!awnmower tires without rims</td>\n",
              "      <td>us</td>\n",
              "      <td>B0089RA0HY</td>\n",
              "      <td>substitute</td>\n",
              "    </tr>\n",
              "    <tr>\n",
              "      <th>4</th>\n",
              "      <td>0</td>\n",
              "      <td>!awnmower tires without rims</td>\n",
              "      <td>us</td>\n",
              "      <td>B0089RNSNM</td>\n",
              "      <td>exact</td>\n",
              "    </tr>\n",
              "  </tbody>\n",
              "</table>\n",
              "</div>\n",
              "      <button class=\"colab-df-convert\" onclick=\"convertToInteractive('df-970a6449-9d08-45ce-bd79-904fd4b9e3ff')\"\n",
              "              title=\"Convert this dataframe to an interactive table.\"\n",
              "              style=\"display:none;\">\n",
              "        \n",
              "  <svg xmlns=\"http://www.w3.org/2000/svg\" height=\"24px\"viewBox=\"0 0 24 24\"\n",
              "       width=\"24px\">\n",
              "    <path d=\"M0 0h24v24H0V0z\" fill=\"none\"/>\n",
              "    <path d=\"M18.56 5.44l.94 2.06.94-2.06 2.06-.94-2.06-.94-.94-2.06-.94 2.06-2.06.94zm-11 1L8.5 8.5l.94-2.06 2.06-.94-2.06-.94L8.5 2.5l-.94 2.06-2.06.94zm10 10l.94 2.06.94-2.06 2.06-.94-2.06-.94-.94-2.06-.94 2.06-2.06.94z\"/><path d=\"M17.41 7.96l-1.37-1.37c-.4-.4-.92-.59-1.43-.59-.52 0-1.04.2-1.43.59L10.3 9.45l-7.72 7.72c-.78.78-.78 2.05 0 2.83L4 21.41c.39.39.9.59 1.41.59.51 0 1.02-.2 1.41-.59l7.78-7.78 2.81-2.81c.8-.78.8-2.07 0-2.86zM5.41 20L4 18.59l7.72-7.72 1.47 1.35L5.41 20z\"/>\n",
              "  </svg>\n",
              "      </button>\n",
              "      \n",
              "  <style>\n",
              "    .colab-df-container {\n",
              "      display:flex;\n",
              "      flex-wrap:wrap;\n",
              "      gap: 12px;\n",
              "    }\n",
              "\n",
              "    .colab-df-convert {\n",
              "      background-color: #E8F0FE;\n",
              "      border: none;\n",
              "      border-radius: 50%;\n",
              "      cursor: pointer;\n",
              "      display: none;\n",
              "      fill: #1967D2;\n",
              "      height: 32px;\n",
              "      padding: 0 0 0 0;\n",
              "      width: 32px;\n",
              "    }\n",
              "\n",
              "    .colab-df-convert:hover {\n",
              "      background-color: #E2EBFA;\n",
              "      box-shadow: 0px 1px 2px rgba(60, 64, 67, 0.3), 0px 1px 3px 1px rgba(60, 64, 67, 0.15);\n",
              "      fill: #174EA6;\n",
              "    }\n",
              "\n",
              "    [theme=dark] .colab-df-convert {\n",
              "      background-color: #3B4455;\n",
              "      fill: #D2E3FC;\n",
              "    }\n",
              "\n",
              "    [theme=dark] .colab-df-convert:hover {\n",
              "      background-color: #434B5C;\n",
              "      box-shadow: 0px 1px 3px 1px rgba(0, 0, 0, 0.15);\n",
              "      filter: drop-shadow(0px 1px 2px rgba(0, 0, 0, 0.3));\n",
              "      fill: #FFFFFF;\n",
              "    }\n",
              "  </style>\n",
              "\n",
              "      <script>\n",
              "        const buttonEl =\n",
              "          document.querySelector('#df-970a6449-9d08-45ce-bd79-904fd4b9e3ff button.colab-df-convert');\n",
              "        buttonEl.style.display =\n",
              "          google.colab.kernel.accessAllowed ? 'block' : 'none';\n",
              "\n",
              "        async function convertToInteractive(key) {\n",
              "          const element = document.querySelector('#df-970a6449-9d08-45ce-bd79-904fd4b9e3ff');\n",
              "          const dataTable =\n",
              "            await google.colab.kernel.invokeFunction('convertToInteractive',\n",
              "                                                     [key], {});\n",
              "          if (!dataTable) return;\n",
              "\n",
              "          const docLinkHtml = 'Like what you see? Visit the ' +\n",
              "            '<a target=\"_blank\" href=https://colab.research.google.com/notebooks/data_table.ipynb>data table notebook</a>'\n",
              "            + ' to learn more about interactive tables.';\n",
              "          element.innerHTML = '';\n",
              "          dataTable['output_type'] = 'display_data';\n",
              "          await google.colab.output.renderOutput(dataTable, element);\n",
              "          const docLink = document.createElement('div');\n",
              "          docLink.innerHTML = docLinkHtml;\n",
              "          element.appendChild(docLink);\n",
              "        }\n",
              "      </script>\n",
              "    </div>\n",
              "  </div>\n",
              "  "
            ],
            "text/plain": [
              "   query_id                         query query_locale  product_id  esci_label\n",
              "0         0  !awnmower tires without rims           us  B00004RA3F  irrelevant\n",
              "1         0  !awnmower tires without rims           us  B0018TWDOI       exact\n",
              "2         0  !awnmower tires without rims           us  B005O5Y3QI       exact\n",
              "3         0  !awnmower tires without rims           us  B0089RA0HY  substitute\n",
              "4         0  !awnmower tires without rims           us  B0089RNSNM       exact"
            ]
          },
          "execution_count": 6,
          "metadata": {},
          "output_type": "execute_result"
        }
      ],
      "source": [
        "train_df.head()"
      ]
    },
    {
      "cell_type": "code",
      "execution_count": null,
      "metadata": {
        "colab": {
          "base_uri": "https://localhost:8080/",
          "height": 548
        },
        "id": "wCoR7SkXdODl",
        "outputId": "29aea468-6f37-4c3d-86a4-6a68e9aa4dac"
      },
      "outputs": [
        {
          "data": {
            "text/html": [
              "\n",
              "  <div id=\"df-51f51920-8981-4eff-801f-6318b56ac809\">\n",
              "    <div class=\"colab-df-container\">\n",
              "      <div>\n",
              "<style scoped>\n",
              "    .dataframe tbody tr th:only-of-type {\n",
              "        vertical-align: middle;\n",
              "    }\n",
              "\n",
              "    .dataframe tbody tr th {\n",
              "        vertical-align: top;\n",
              "    }\n",
              "\n",
              "    .dataframe thead th {\n",
              "        text-align: right;\n",
              "    }\n",
              "</style>\n",
              "<table border=\"1\" class=\"dataframe\">\n",
              "  <thead>\n",
              "    <tr style=\"text-align: right;\">\n",
              "      <th></th>\n",
              "      <th>product_id</th>\n",
              "      <th>product_title</th>\n",
              "      <th>product_description</th>\n",
              "      <th>product_bullet_point</th>\n",
              "      <th>product_brand</th>\n",
              "      <th>product_color_name</th>\n",
              "      <th>product_locale</th>\n",
              "    </tr>\n",
              "  </thead>\n",
              "  <tbody>\n",
              "    <tr>\n",
              "      <th>0</th>\n",
              "      <td>B0188A3QRM</td>\n",
              "      <td>Amazon Basics Woodcased #2 Pencils, Unsharpene...</td>\n",
              "      <td>NaN</td>\n",
              "      <td>144 woodcase #2 HB pencils made from high-qual...</td>\n",
              "      <td>Amazon Basics</td>\n",
              "      <td>Yellow</td>\n",
              "      <td>us</td>\n",
              "    </tr>\n",
              "    <tr>\n",
              "      <th>1</th>\n",
              "      <td>B075VXJ9VG</td>\n",
              "      <td>BAZIC Pencil #2 HB Pencils, Latex Free Eraser,...</td>\n",
              "      <td>&lt;p&gt;&lt;strong&gt;BACK TO BAZIC&lt;/strong&gt;&lt;/p&gt;&lt;p&gt;Our go...</td>\n",
              "      <td>&amp;#11088; UN-SHARPENED #2 PREMIUM PENCILS. Each...</td>\n",
              "      <td>BAZIC Products</td>\n",
              "      <td>12-count</td>\n",
              "      <td>us</td>\n",
              "    </tr>\n",
              "    <tr>\n",
              "      <th>2</th>\n",
              "      <td>B07G7F6JZ6</td>\n",
              "      <td>Emraw Pre Sharpened Round Primary Size No 2 Ju...</td>\n",
              "      <td>&lt;p&gt;&lt;b&gt;Emraw Pre-Sharpened #2 HB Wood Pencils -...</td>\n",
              "      <td>✓ PACK OF 8 NUMBER 2 PRESHARPENED BEGINNERS PE...</td>\n",
              "      <td>Emraw</td>\n",
              "      <td>Yellow</td>\n",
              "      <td>us</td>\n",
              "    </tr>\n",
              "    <tr>\n",
              "      <th>3</th>\n",
              "      <td>B07JZJLHCF</td>\n",
              "      <td>Emraw Pre Sharpened Triangular Primary Size No...</td>\n",
              "      <td>&lt;p&gt;&lt;b&gt;Emraw Pre-Sharpened #2 HB Wood Pencils -...</td>\n",
              "      <td>✓ PACK OF 6 NUMBER 2 PRESHARPENED BEGINNERS PE...</td>\n",
              "      <td>Emraw</td>\n",
              "      <td>Yellow</td>\n",
              "      <td>us</td>\n",
              "    </tr>\n",
              "    <tr>\n",
              "      <th>4</th>\n",
              "      <td>B07MGKC3DD</td>\n",
              "      <td>BIC Evolution Cased Pencil, #2 Lead, Gray Barr...</td>\n",
              "      <td>NaN</td>\n",
              "      <td>Premium #2 HB lead pencils with break-resistan...</td>\n",
              "      <td>Design House</td>\n",
              "      <td>Gray</td>\n",
              "      <td>us</td>\n",
              "    </tr>\n",
              "  </tbody>\n",
              "</table>\n",
              "</div>\n",
              "      <button class=\"colab-df-convert\" onclick=\"convertToInteractive('df-51f51920-8981-4eff-801f-6318b56ac809')\"\n",
              "              title=\"Convert this dataframe to an interactive table.\"\n",
              "              style=\"display:none;\">\n",
              "        \n",
              "  <svg xmlns=\"http://www.w3.org/2000/svg\" height=\"24px\"viewBox=\"0 0 24 24\"\n",
              "       width=\"24px\">\n",
              "    <path d=\"M0 0h24v24H0V0z\" fill=\"none\"/>\n",
              "    <path d=\"M18.56 5.44l.94 2.06.94-2.06 2.06-.94-2.06-.94-.94-2.06-.94 2.06-2.06.94zm-11 1L8.5 8.5l.94-2.06 2.06-.94-2.06-.94L8.5 2.5l-.94 2.06-2.06.94zm10 10l.94 2.06.94-2.06 2.06-.94-2.06-.94-.94-2.06-.94 2.06-2.06.94z\"/><path d=\"M17.41 7.96l-1.37-1.37c-.4-.4-.92-.59-1.43-.59-.52 0-1.04.2-1.43.59L10.3 9.45l-7.72 7.72c-.78.78-.78 2.05 0 2.83L4 21.41c.39.39.9.59 1.41.59.51 0 1.02-.2 1.41-.59l7.78-7.78 2.81-2.81c.8-.78.8-2.07 0-2.86zM5.41 20L4 18.59l7.72-7.72 1.47 1.35L5.41 20z\"/>\n",
              "  </svg>\n",
              "      </button>\n",
              "      \n",
              "  <style>\n",
              "    .colab-df-container {\n",
              "      display:flex;\n",
              "      flex-wrap:wrap;\n",
              "      gap: 12px;\n",
              "    }\n",
              "\n",
              "    .colab-df-convert {\n",
              "      background-color: #E8F0FE;\n",
              "      border: none;\n",
              "      border-radius: 50%;\n",
              "      cursor: pointer;\n",
              "      display: none;\n",
              "      fill: #1967D2;\n",
              "      height: 32px;\n",
              "      padding: 0 0 0 0;\n",
              "      width: 32px;\n",
              "    }\n",
              "\n",
              "    .colab-df-convert:hover {\n",
              "      background-color: #E2EBFA;\n",
              "      box-shadow: 0px 1px 2px rgba(60, 64, 67, 0.3), 0px 1px 3px 1px rgba(60, 64, 67, 0.15);\n",
              "      fill: #174EA6;\n",
              "    }\n",
              "\n",
              "    [theme=dark] .colab-df-convert {\n",
              "      background-color: #3B4455;\n",
              "      fill: #D2E3FC;\n",
              "    }\n",
              "\n",
              "    [theme=dark] .colab-df-convert:hover {\n",
              "      background-color: #434B5C;\n",
              "      box-shadow: 0px 1px 3px 1px rgba(0, 0, 0, 0.15);\n",
              "      filter: drop-shadow(0px 1px 2px rgba(0, 0, 0, 0.3));\n",
              "      fill: #FFFFFF;\n",
              "    }\n",
              "  </style>\n",
              "\n",
              "      <script>\n",
              "        const buttonEl =\n",
              "          document.querySelector('#df-51f51920-8981-4eff-801f-6318b56ac809 button.colab-df-convert');\n",
              "        buttonEl.style.display =\n",
              "          google.colab.kernel.accessAllowed ? 'block' : 'none';\n",
              "\n",
              "        async function convertToInteractive(key) {\n",
              "          const element = document.querySelector('#df-51f51920-8981-4eff-801f-6318b56ac809');\n",
              "          const dataTable =\n",
              "            await google.colab.kernel.invokeFunction('convertToInteractive',\n",
              "                                                     [key], {});\n",
              "          if (!dataTable) return;\n",
              "\n",
              "          const docLinkHtml = 'Like what you see? Visit the ' +\n",
              "            '<a target=\"_blank\" href=https://colab.research.google.com/notebooks/data_table.ipynb>data table notebook</a>'\n",
              "            + ' to learn more about interactive tables.';\n",
              "          element.innerHTML = '';\n",
              "          dataTable['output_type'] = 'display_data';\n",
              "          await google.colab.output.renderOutput(dataTable, element);\n",
              "          const docLink = document.createElement('div');\n",
              "          docLink.innerHTML = docLinkHtml;\n",
              "          element.appendChild(docLink);\n",
              "        }\n",
              "      </script>\n",
              "    </div>\n",
              "  </div>\n",
              "  "
            ],
            "text/plain": [
              "   product_id                                      product_title  \\\n",
              "0  B0188A3QRM  Amazon Basics Woodcased #2 Pencils, Unsharpene...   \n",
              "1  B075VXJ9VG  BAZIC Pencil #2 HB Pencils, Latex Free Eraser,...   \n",
              "2  B07G7F6JZ6  Emraw Pre Sharpened Round Primary Size No 2 Ju...   \n",
              "3  B07JZJLHCF  Emraw Pre Sharpened Triangular Primary Size No...   \n",
              "4  B07MGKC3DD  BIC Evolution Cased Pencil, #2 Lead, Gray Barr...   \n",
              "\n",
              "                                 product_description  \\\n",
              "0                                                NaN   \n",
              "1  <p><strong>BACK TO BAZIC</strong></p><p>Our go...   \n",
              "2  <p><b>Emraw Pre-Sharpened #2 HB Wood Pencils -...   \n",
              "3  <p><b>Emraw Pre-Sharpened #2 HB Wood Pencils -...   \n",
              "4                                                NaN   \n",
              "\n",
              "                                product_bullet_point   product_brand  \\\n",
              "0  144 woodcase #2 HB pencils made from high-qual...   Amazon Basics   \n",
              "1  &#11088; UN-SHARPENED #2 PREMIUM PENCILS. Each...  BAZIC Products   \n",
              "2  ✓ PACK OF 8 NUMBER 2 PRESHARPENED BEGINNERS PE...           Emraw   \n",
              "3  ✓ PACK OF 6 NUMBER 2 PRESHARPENED BEGINNERS PE...           Emraw   \n",
              "4  Premium #2 HB lead pencils with break-resistan...    Design House   \n",
              "\n",
              "  product_color_name product_locale  \n",
              "0             Yellow             us  \n",
              "1           12-count             us  \n",
              "2             Yellow             us  \n",
              "3             Yellow             us  \n",
              "4               Gray             us  "
            ]
          },
          "execution_count": 7,
          "metadata": {},
          "output_type": "execute_result"
        }
      ],
      "source": [
        "product_df.head()"
      ]
    },
    {
      "cell_type": "code",
      "execution_count": null,
      "metadata": {
        "id": "eaeLJvjydR5a"
      },
      "outputs": [],
      "source": [
        "train_df = train_df.merge(product_df,left_on = ['product_id','query_locale'],right_on=['product_id','product_locale'], how= 'left')\n",
        "test_df = test_df.merge(product_df,left_on = ['product_id','query_locale'],right_on=['product_id','product_locale'], how= 'left')"
      ]
    },
    {
      "cell_type": "code",
      "execution_count": null,
      "metadata": {
        "colab": {
          "base_uri": "https://localhost:8080/"
        },
        "id": "CDeVbg2geNZT",
        "outputId": "5bd0a04e-09e5-4867-c109-556f53c8fe32"
      },
      "outputs": [
        {
          "name": "stdout",
          "output_type": "stream",
          "text": [
            "Total number of train data =  781738\n",
            "Total number of test data =  167799\n",
            "Total number of product =  883868\n"
          ]
        }
      ],
      "source": [
        "print(\"Total number of train data = \" , train_df.shape[0])\n",
        "print(\"Total number of test data = \" , test_df.shape[0])\n",
        "print(\"Total number of product = \" , product_df.shape[0])"
      ]
    },
    {
      "cell_type": "markdown",
      "metadata": {
        "id": "ZmUFglaPh8su"
      },
      "source": [
        "### Printing first row"
      ]
    },
    {
      "cell_type": "code",
      "execution_count": null,
      "metadata": {
        "colab": {
          "base_uri": "https://localhost:8080/"
        },
        "id": "nxUYPgfMeQAM",
        "outputId": "80696f83-0072-4a4e-ecb8-e3a48741b4a8"
      },
      "outputs": [
        {
          "name": "stdout",
          "output_type": "stream",
          "text": [
            "query_id:0\n",
            "query:!awnmower tires without rims\n",
            "query_locale:us\n",
            "product_id:B00004RA3F\n",
            "esci_label:irrelevant\n",
            "product_title:American Lawn Mower Company 1204-14 14-Inch 4-Blade Push Reel Lawn Mower, Red\n",
            "product_description:nan\n",
            "product_bullet_point:4-blade reel with a cutting width of 14” and durable 8.5” polymer wheels for maximum maneuverability\n",
            "Mechanical lawn mower with an adjustable blade height of 0.5”-1.75” with scissor action cut\n",
            "Manual grass cutter blades made of heat-treated alloy steel that stays sharp for years\n",
            "Environment-friendly alternative to gas-powered lawn mowers which is pollution-free and noise-free; Low maintenance, lightweight and easy to use\n",
            "Capable of cutting grass up to 4 inches tall\n",
            "product_brand:American Lawn Mower Company\n",
            "product_color_name:Red\n",
            "product_locale:us\n"
          ]
        }
      ],
      "source": [
        "row = dict(train_df.iloc[0,:])\n",
        "for name, value in row.items():\n",
        "    print(f'{name}:{value}')"
      ]
    },
    {
      "cell_type": "code",
      "execution_count": null,
      "metadata": {
        "colab": {
          "base_uri": "https://localhost:8080/",
          "height": 295
        },
        "id": "6JNRKbpeh4yW",
        "outputId": "ce3533df-4699-4522-aa7a-996a809037a3"
      },
      "outputs": [
        {
          "data": {
            "image/png": "[encoded data removed]",
            "text/plain": [
              "<Figure size 432x288 with 1 Axes>"
            ]
          },
          "metadata": {},
          "output_type": "display_data"
        }
      ],
      "source": [
        "import matplotlib.pylab as plt\n",
        "plt.bar(\n",
        "    x = np.unique(train_df[\"esci_label\"]),\n",
        "    height = [list(train_df[\"esci_label\"]).count(i) for i in np.unique(train_df[\"esci_label\"])] , \n",
        ") \n",
        "plt.xlabel(\"Classes\")\n",
        "plt.ylabel(\"Number of Rows\")\n",
        "plt.title('ESCI label Distribution ')\n",
        "plt.show()\n",
        "\n",
        "### Null Values\n"
      ]
    },
    {
      "cell_type": "code",
      "execution_count": null,
      "metadata": {
        "colab": {
          "base_uri": "https://localhost:8080/"
        },
        "id": "MOmsBua78T5Q",
        "outputId": "23fe2a23-32c1-4aa5-a598-c1b15443fab4"
      },
      "outputs": [
        {
          "data": {
            "text/plain": [
              "query_id                     0\n",
              "query                        0\n",
              "query_locale                 0\n",
              "product_id                   0\n",
              "esci_label                   0\n",
              "product_title              100\n",
              "product_description     405384\n",
              "product_bullet_point    116392\n",
              "product_brand            60805\n",
              "product_color_name      300815\n",
              "product_locale               0\n",
              "dtype: int64"
            ]
          },
          "execution_count": 13,
          "metadata": {},
          "output_type": "execute_result"
        }
      ],
      "source": [
        "train_df.isnull().sum()"
      ]
    },
    {
      "cell_type": "markdown",
      "metadata": {
        "id": "mRwPO_c-8_tg"
      },
      "source": [
        "### String filter distribution"
      ]
    },
    {
      "cell_type": "code",
      "execution_count": null,
      "metadata": {
        "colab": {
          "base_uri": "https://localhost:8080/",
          "height": 1000
        },
        "id": "BqQLUnaJ80Je",
        "outputId": "c1e6c5a1-ba46-424d-e975-fb4850cef354"
      },
      "outputs": [
        {
          "data": {
            "image/png": "[encoded data removed]",
            "text/plain": [
              "<Figure size 432x288 with 1 Axes>"
            ]
          },
          "metadata": {},
          "output_type": "display_data"
        },
        {
          "data": {
            "image/png": "[encoded data removed]",
            "text/plain": [
              "<Figure size 432x288 with 1 Axes>"
            ]
          },
          "metadata": {},
          "output_type": "display_data"
        },
        {
          "data": {
            "image/png": "[encoded data removed]",
            "text/plain": [
              "<Figure size 432x288 with 1 Axes>"
            ]
          },
          "metadata": {},
          "output_type": "display_data"
        },
        {
          "data": {
            "image/png": "[encoded data removed]",
            "text/plain": [
              "<Figure size 432x288 with 1 Axes>"
            ]
          },
          "metadata": {},
          "output_type": "display_data"
        },
        {
          "data": {
            "image/png": "[encoded data removed]",
            "text/plain": [
              "<Figure size 432x288 with 1 Axes>"
            ]
          },
          "metadata": {},
          "output_type": "display_data"
        },
        {
          "data": {
            "image/png": "[encoded data removed]",
            "text/plain": [
              "<Figure size 432x288 with 1 Axes>"
            ]
          },
          "metadata": {},
          "output_type": "display_data"
        }
      ],
      "source": [
        "lens = lambda x: len(str(x))\n",
        "length_train_df = pd.DataFrame()\n",
        "for name in train_df.columns:\n",
        "    if ('product' in name or 'query' in name) and ('locale' not in name and 'id' not in name):\n",
        "        length_train_df[f'{name}_length'] = train_df[name].apply(lens)\n",
        "for name in length_train_df.columns:\n",
        "    plt.hist(length_train_df[name],bins=50)\n",
        "    plt.xlabel(\"length\")\n",
        "    plt.ylabel(\"count\")\n",
        "    plt.title(name)\n",
        "    plt.show()"
      ]
    },
    {
      "cell_type": "markdown",
      "metadata": {
        "id": "_XTVWpSC-KYq"
      },
      "source": [
        "### Token Length In A PreTrained Model"
      ]
    },
    {
      "cell_type": "code",
      "execution_count": null,
      "metadata": {
        "colab": {
          "background_save": true
        },
        "id": "NMsx0IHCAtRy"
      },
      "outputs": [],
      "source": [
        "!pip install transformers"
      ]
    },
    {
      "cell_type": "code",
      "execution_count": null,
      "metadata": {
        "colab": {
          "base_uri": "https://localhost:8080/",
          "height": 376
        },
        "id": "UkBotBQn9_6W",
        "outputId": "4922fc38-3e25-44a7-a202-936ef8bfc521"
      },
      "outputs": [
        {
          "ename": "ModuleNotFoundError",
          "evalue": "ignored",
          "output_type": "error",
          "traceback": [
            "\u001b[0;31m---------------------------------------------------------------------------\u001b[0m",
            "\u001b[0;31mModuleNotFoundError\u001b[0m                       Traceback (most recent call last)",
            "\u001b[0;32m<ipython-input-15-085743c50ae0>\u001b[0m in \u001b[0;36m<module>\u001b[0;34m()\u001b[0m\n\u001b[1;32m      1\u001b[0m \u001b[0;32mfrom\u001b[0m \u001b[0mtqdm\u001b[0m\u001b[0;34m.\u001b[0m\u001b[0mnotebook\u001b[0m \u001b[0;32mimport\u001b[0m \u001b[0mtqdm\u001b[0m\u001b[0;34m\u001b[0m\u001b[0;34m\u001b[0m\u001b[0m\n\u001b[0;32m----> 2\u001b[0;31m \u001b[0;32mfrom\u001b[0m \u001b[0mtransformers\u001b[0m \u001b[0;32mimport\u001b[0m \u001b[0mAutoTokenizer\u001b[0m\u001b[0;34m\u001b[0m\u001b[0;34m\u001b[0m\u001b[0m\n\u001b[0m\u001b[1;32m      3\u001b[0m \u001b[0mflag\u001b[0m\u001b[0;34m=\u001b[0m\u001b[0;32mTrue\u001b[0m\u001b[0;34m\u001b[0m\u001b[0;34m\u001b[0m\u001b[0m\n\u001b[1;32m      4\u001b[0m \u001b[0mtokenizer\u001b[0m \u001b[0;34m=\u001b[0m \u001b[0mAutoTokenizer\u001b[0m\u001b[0;34m.\u001b[0m\u001b[0mfrom_pretrained\u001b[0m\u001b[0;34m(\u001b[0m\u001b[0;34m'bert-base-multilingual-cased'\u001b[0m\u001b[0;34m)\u001b[0m\u001b[0;34m\u001b[0m\u001b[0;34m\u001b[0m\u001b[0m\n\u001b[1;32m      5\u001b[0m \u001b[0mdf\u001b[0m \u001b[0;34m=\u001b[0m \u001b[0mtrain_df\u001b[0m\u001b[0;34m.\u001b[0m\u001b[0msample\u001b[0m\u001b[0;34m(\u001b[0m\u001b[0;36m100000\u001b[0m\u001b[0;34m,\u001b[0m\u001b[0mrandom_state\u001b[0m\u001b[0;34m=\u001b[0m \u001b[0;36m2022\u001b[0m\u001b[0;34m)\u001b[0m\u001b[0;34m\u001b[0m\u001b[0;34m\u001b[0m\u001b[0m\n",
            "\u001b[0;31mModuleNotFoundError\u001b[0m: No module named 'transformers'",
            "",
            "\u001b[0;31m---------------------------------------------------------------------------\u001b[0;32m\nNOTE: If your import is failing due to a missing package, you can\nmanually install dependencies using either !pip or !apt.\n\nTo view examples of installing some common dependencies, click the\n\"Open Examples\" button below.\n\u001b[0;31m---------------------------------------------------------------------------\u001b[0m\n"
          ]
        }
      ],
      "source": [
        "from tqdm.notebook import tqdm\n",
        "from transformers import AutoTokenizer\n",
        "flag=True\n",
        "tokenizer = AutoTokenizer.from_pretrained('bert-base-multilingual-cased')\n",
        "df = train_df.sample(100000,random_state= 2022)\n",
        "token_len = []\n",
        "bar = tqdm(df.iterrows(),total=df.shape[0])\n",
        "for i, row in bar:\n",
        "    text = [row['query'], row['product_title'], row['product_bullet_point'], row['product_brand'],\n",
        "            row['product_color_name'], row['product_locale'], row['product_description']]\n",
        "    text = [str(i) for i in text]\n",
        "    if flag:\n",
        "      print(tokenizer.sep_token)\n",
        "      flag=False\n",
        "    text = f' {tokenizer.sep_token} '.join(text)\n",
        "    encoded_text = tokenizer.encode_plus(text, add_special_tokens=False)\n",
        "    input_ids = encoded_text[\"input_ids\"]\n",
        "    token_len.append(len(input_ids))"
      ]
    },
    {
      "cell_type": "code",
      "execution_count": null,
      "metadata": {
        "id": "PPN-3y5wAqaI"
      },
      "outputs": [],
      "source": [
        ""
      ]
    },
    {
      "cell_type": "markdown",
      "metadata": {
        "id": "w4c8A0JSqOzb"
      },
      "source": [
        "# esci-code"
      ]
    },
    {
      "cell_type": "code",
      "execution_count": 3,
      "metadata": {
        "colab": {
          "base_uri": "https://localhost:8080/"
        },
        "id": "ZKijSLd2qR0U",
        "outputId": "2274d274-88b0-4db4-bff5-d49890ad1b75"
      },
      "outputs": [
        {
          "output_type": "stream",
          "name": "stdout",
          "text": [
            "Cloning into 'esci-code'...\n",
            "remote: Enumerating objects: 92, done.\u001b[K\n",
            "remote: Counting objects: 100% (92/92), done.\u001b[K\n",
            "remote: Compressing objects: 100% (80/80), done.\u001b[K\n",
            "remote: Total 92 (delta 52), reused 29 (delta 11), pack-reused 0\u001b[K\n",
            "Unpacking objects: 100% (92/92), done.\n"
          ]
        }
      ],
      "source": [
        "!git clone https://github.com/saidineshOFF/esci-code.git"
      ]
    },
    {
      "cell_type": "code",
      "execution_count": 4,
      "metadata": {
        "colab": {
          "base_uri": "https://localhost:8080/"
        },
        "id": "7nU85f7JqWxZ",
        "outputId": "877d7e80-5d7f-44ca-bbd0-e1111edd4141"
      },
      "outputs": [
        {
          "output_type": "stream",
          "name": "stdout",
          "text": [
            "/content/esci-code/data\n",
            "product_catalogue-v0.2.csv.zip: 100% 328M/328M [00:23<00:00, 13.8MB/s]\n",
            "sample_submission-v0.2.csv: 100% 1.60M/1.60M [00:01<00:00, 1.31MB/s]\n",
            "test_public-v0.2.csv.zip: 100% 1.35M/1.35M [00:01<00:00, 1.12MB/s]\n",
            "train-v0.2.csv.zip: 100% 6.72M/6.72M [00:01<00:00, 3.64MB/s]\n",
            "product_catalogue-v0.2.csv.zip: 100% 657M/657M [00:44<00:00, 14.9MB/s]\n",
            "sample_submission-v0.2.csv: 100% 7.00M/7.00M [00:01<00:00, 4.15MB/s]\n",
            "test_public-v0.2.csv.zip: 100% 4.17M/4.17M [00:01<00:00, 2.59MB/s]\n",
            "train-v0.2.csv.zip: 100% 19.8M/19.8M [00:02<00:00, 7.50MB/s]\n",
            "product_catalogue-v0.2.csv.zip: 100% 657M/657M [00:44<00:00, 14.8MB/s]\n",
            "sample_submission-v0.2.csv: 100% 8.08M/8.08M [00:01<00:00, 4.41MB/s]\n",
            "test_public-v0.2.csv.zip: 100% 4.17M/4.17M [00:01<00:00, 2.49MB/s]\n",
            "train-v0.2.csv.zip: 100% 20.3M/20.3M [00:02<00:00, 7.73MB/s]\n",
            "/content/esci-code\n"
          ]
        }
      ],
      "source": [
        "%cd /content/esci-code/data\n",
        "!./download-data.sh\n",
        "%cd /content/esci-code/"
      ]
    },
    {
      "cell_type": "code",
      "execution_count": 1,
      "metadata": {
        "colab": {
          "base_uri": "https://localhost:8080/"
        },
        "id": "9uDwSfEaqsNu",
        "outputId": "0771e97e-a10c-43a9-a131-54a3c6c68ae5"
      },
      "outputs": [
        {
          "output_type": "stream",
          "name": "stdout",
          "text": [
            "/content/esci-code/ranking\n",
            "/usr/local/lib/python3.7/dist-packages/transformers/configuration_utils.py:337: UserWarning: Passing `gradient_checkpointing` to a config initialization is deprecated and will be removed in v5 Transformers. Using `model.gradient_checkpointing_enable()` instead, or if you are using the `Trainer` API, pass `gradient_checkpointing=True` in your `TrainingArguments`.\n",
            "  \"Passing `gradient_checkpointing` to a config initialization is deprecated and will be removed in v5 \"\n",
            "Traceback (most recent call last):\n",
            "  File \"train.py\", line 178, in <module>\n",
            "    main()\n",
            "  File \"train.py\", line 149, in main\n",
            "    callbacks=[early_stop_callback,checkpoint_callback]\n",
            "TypeError: fit() got an unexpected keyword argument 'callbacks'\n",
            "Traceback (most recent call last):\n",
            "  File \"train.py\", line 178, in <module>\n",
            "    main()\n",
            "  File \"train.py\", line 63, in main\n",
            "    df_product_catalogue = pd.read_csv(args.product_catalogue_path_file)\n",
            "  File \"/usr/local/lib/python3.7/dist-packages/pandas/io/parsers.py\", line 688, in read_csv\n",
            "    return _read(filepath_or_buffer, kwds)\n",
            "  File \"/usr/local/lib/python3.7/dist-packages/pandas/io/parsers.py\", line 460, in _read\n",
            "    data = parser.read(nrows)\n",
            "  File \"/usr/local/lib/python3.7/dist-packages/pandas/io/parsers.py\", line 1198, in read\n",
            "    ret = self._engine.read(nrows)\n",
            "  File \"/usr/local/lib/python3.7/dist-packages/pandas/io/parsers.py\", line 2157, in read\n",
            "    data = self._reader.read(nrows)\n",
            "  File \"pandas/_libs/parsers.pyx\", line 847, in pandas._libs.parsers.TextReader.read\n",
            "  File \"pandas/_libs/parsers.pyx\", line 862, in pandas._libs.parsers.TextReader._read_low_memory\n",
            "  File \"pandas/_libs/parsers.pyx\", line 918, in pandas._libs.parsers.TextReader._read_rows\n",
            "  File \"pandas/_libs/parsers.pyx\", line 905, in pandas._libs.parsers.TextReader._tokenize_rows\n",
            "  File \"pandas/_libs/parsers.pyx\", line 2042, in pandas._libs.parsers.raise_parser_error\n",
            "pandas.errors.ParserError: Error tokenizing data. C error: Calling read(nbytes) on source failed. Try engine='python'.\n",
            "Traceback (most recent call last):\n",
            "  File \"train.py\", line 16, in <module>\n",
            "    from sentence_transformers.cross_encoder import CrossEncoder\n",
            "  File \"/usr/local/lib/python3.7/dist-packages/sentence_transformers/__init__.py\", line 3, in <module>\n",
            "    from .datasets import SentencesDataset, ParallelSentencesDataset\n",
            "  File \"/usr/local/lib/python3.7/dist-packages/sentence_transformers/datasets/__init__.py\", line 1, in <module>\n",
            "    from .DenoisingAutoEncoderDataset import DenoisingAutoEncoderDataset\n",
            "  File \"/usr/local/lib/python3.7/dist-packages/sentence_transformers/datasets/DenoisingAutoEncoderDataset.py\", line 1, in <module>\n",
            "    from torch.utils.data import Dataset\n",
            "  File \"/usr/local/lib/python3.7/dist-packages/torch/__init__.py\", line 199, in <module>\n",
            "    from torch._C import *  # noqa: F403\n",
            "RuntimeError: KeyboardInterrupt: \n",
            "^C\n"
          ]
        }
      ],
      "source": [
        "#!pip install -r /content/esci-code/requirements.txt >> /dev/null\n",
        "#!pip install pytorch_lightning\n",
        "%cd /content/esci-code/ranking\n",
        "!/content/esci-code/ranking/launch-experiments-task1.sh"
      ]
    },
    {
      "cell_type": "code",
      "source": [
        "!pip install pytorch_lightning"
      ],
      "metadata": {
        "id": "9BC-FTfp8wQq"
      },
      "execution_count": null,
      "outputs": []
    },
    {
      "cell_type": "code",
      "execution_count": 8,
      "metadata": {
        "id": "xsbIKsV5rUSv",
        "colab": {
          "base_uri": "https://localhost:8080/"
        },
        "outputId": "a4e047b1-7edf-468d-c306-8cb76f4bf6db"
      },
      "outputs": [
        {
          "output_type": "stream",
          "name": "stdout",
          "text": [
            "/content/esci-code/ranking\n",
            "/usr/local/lib/python3.7/dist-packages/transformers/configuration_utils.py:337: UserWarning: Passing `gradient_checkpointing` to a config initialization is deprecated and will be removed in v5 Transformers. Using `model.gradient_checkpointing_enable()` instead, or if you are using the `Trainer` API, pass `gradient_checkpointing=True` in your `TrainingArguments`.\n",
            "  \"Passing `gradient_checkpointing` to a config initialization is deprecated and will be removed in v5 \"\n",
            "100% 356/356 [01:56<00:00,  3.06it/s]\n",
            "/usr/local/lib/python3.7/dist-packages/transformers/configuration_utils.py:337: UserWarning: Passing `gradient_checkpointing` to a config initialization is deprecated and will be removed in v5 Transformers. Using `model.gradient_checkpointing_enable()` instead, or if you are using the `Trainer` API, pass `gradient_checkpointing=True` in your `TrainingArguments`.\n",
            "  \"Passing `gradient_checkpointing` to a config initialization is deprecated and will be removed in v5 \"\n",
            "100% 129/129 [02:57<00:00,  1.38s/it]\n",
            "/usr/local/lib/python3.7/dist-packages/transformers/configuration_utils.py:337: UserWarning: Passing `gradient_checkpointing` to a config initialization is deprecated and will be removed in v5 Transformers. Using `model.gradient_checkpointing_enable()` instead, or if you are using the `Trainer` API, pass `gradient_checkpointing=True` in your `TrainingArguments`.\n",
            "  \"Passing `gradient_checkpointing` to a config initialization is deprecated and will be removed in v5 \"\n",
            "100% 172/172 [06:08<00:00,  2.14s/it]\n"
          ]
        }
      ],
      "source": [
        "%cd /content/esci-code/ranking\n",
        "!/content/esci-code/ranking/launch-predictions-task1.sh"
      ]
    },
    {
      "cell_type": "code",
      "source": [
        "!aicrowd submission create -c esci-challenge-for-improving-product-search -f /content/esci-code/ranking/hypothesis/task_1_ranking_model.csv "
      ],
      "metadata": {
        "id": "hz18DWmdCc93"
      },
      "execution_count": null,
      "outputs": []
    }
  ],
  "metadata": {
    "accelerator": "GPU",
    "colab": {
      "name": "Amazon KDD cup22.ipynb",
      "provenance": [],
      "include_colab_link": true
    },
    "kernelspec": {
      "display_name": "Python 3",
      "name": "python3"
    },
    "language_info": {
      "name": "python"
    }
  },
  "nbformat": 4,
  "nbformat_minor": 0
}